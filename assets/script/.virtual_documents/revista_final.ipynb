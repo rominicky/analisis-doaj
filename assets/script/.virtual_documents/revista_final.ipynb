#- almacenamos en el objeto "path_wd" la ruta de mi directorio de trabajo
rm(list = ls())


getwd()


path_wd <- getwd()
#


setwd(path_wd)
packages <- c("tidytext", "gapminder", "tidyverse", "dplyr", "ggplot2")
install.packages(packages, INSTALL_opts = '--no-lock') #si tira error de /00LOCK 
#lo eliminé C:\Users\RominaSoledadDeLeon\AppData\Local\R\win-library desde esa carpeta busque folder /00LOCK 
install.packages("treemapify", dependencies = TRUE, INSTALL_opts = '--no-lock')
install.packages('magritter')
install.packages("ggplot2")
install.packages('rio')
install.packages('xlsx')
library(treemapify)
library(tidyverse)
library(tidytext)
library(dplyr)
library(ggplot2)
library(gapminder)
library(magrittr) #algunos los vuelvo a llamar por error al correr el script
library(tidyselect)
library(readr)
library(rio)
library(xlsx)


#creamos un data.frame con la base de datos: mis_datos
#Gimena quiere que se haga una jupyter para levantar en vivo y generar los gráficos
journal <- read.csv("journalcsv__doaj_20230323_1236_utf8.csv")


as_tibble(journal)
#nueva tabla con datos de interes 





journal.select <- journal%>% select(Journal.title, Country.of.publisher, Languages.in.which.the.journal.accepts.manuscripts, Journal.license, Publisher, Review.process, Subjects)


journal.select <- journal.select %>%
  rename(title = Journal.title) %>%
  rename(country = Country.of.publisher) %>%
  rename(language = Languages.in.which.the.journal.accepts.manuscripts) %>%
  rename (license = Journal.license) %>%
  rename (Review = Review.process)


journal.select %>%
  group_by(country)%>%
  count()%>%
  ungroup()%>%
  mutate(percentage= n /sum(n)*100)


total.journal <- length(journal.select$title)
total.journal


class(journal.select)
##COLOMBIA
journal.pais <- journal.select %>% filter(country == "Colombia")


total.pais <- length(journal.pais$title)
total.pais
#total <- c("Total de pa?ses", total.journal)
#pais <- c("Colombia", total.pais)
#porc.pais <- data.frame(total, pais)
#pie(porc.pais, labels = porc.pais)





journal.pais %>%
  group_by(language)%>%
  count()%>%
  filter(n>5)%>%
  mutate(language = reorder(language, n)) %>%
  ggplot(aes(x = language, y = n, fill = language)) +
  geom_col () + # si agrego , fill = "blue" cambio color
  theme_minimal() +
  theme(legend.position = "n") +
  ylab("Número de veces que aparecen") +
  xlab(NULL) +
  ggtitle("Idiomas de publicación de revistas en Colombia") +
  coord_flip()


#unificar idiomas
unify_languages <- function(language_string) {
  language_list <- strsplit(language_string, ", ")
  unified_languages <- sapply(language_list, function(x) paste(sort(unique(x)), collapse = ", "))
  return(unified_languages)
}


# Aplicar la función para crear una nueva columna con los idiomas unificados
data <- journal.pais %>%
  mutate(language_unique = unify_languages(language))


# Contar las combinaciones de idiomas unificadas y filtrar las duplicadas
data <- data %>%
  group_by(language_unique) %>%
  summarise(count = n()) %>%
  arrange(desc(count))


# Agrupar las combinaciones de idiomas únicas
unique_combinations <- data %>%
  pull(language_unique) %>%
  unique()


#grafico
ggplot(data, aes(x = count, y = fct_reorder(language_unique, (count)))) +
  geom_bar(stat = "identity", fill = "#9933FF") +
  theme_minimal() +
  labs(title = "Idiomas de publicación de revistas en Colombia", x = "Número de veces que aparecen", y = "Idioma") +
  theme_minimal() +
  theme(axis.text.y = element_text(size = 10))


#otro gráfico
journal.pais %>%
  group_by(Publisher)%>%
  count()%>%
  filter(n>6)%>%
  mutate(Publisher = reorder(Publisher, desc(n))) %>%
  ggplot(aes(x = Publisher, y = n, fill = Publisher)) + 
  geom_col () + # si agrego , fill = "blue" cambio color
  theme_minimal() +
  theme(legend.position = "n") +
  ylab("Cantidad de revistas publicadas por") +
  xlab(NULL) +
  ggtitle("Editorial de publicación de revistas en Colombia") +
  coord_flip()


journal.pais %>%
  group_by(license)%>%
  count()%>%
  filter(n>1)%>%
  mutate(license = reorder(license, n)) %>%
  ggplot(aes(x = license, y = n, fill = license)) +
  geom_col () + # si agrego , fill = "blue" cambio color
  theme_minimal() +
  theme(legend.position = "n") +
  ylab("Tipo de licencias") +
  xlab(NULL) +
  ggtitle("Licencias de publicación de revistas en Colombia") +
  coord_flip()


journal.pais %>%
  group_by(Review)%>%
  count()%>%
  filter(n>5)%>%
  mutate(Review = fct_reorder(Review, n)) %>%
  ggplot(aes(x = Review, y = n, fill = Review)) +
  geom_col () + # si agrego , fill = "blue" cambio color
  theme_minimal() +
  theme(legend.position = "n") +
  ylab("Proceso de revisión") +
  xlab(NULL) +
  ggtitle("Proceso de revisión de publicación de revistas en Colombia") +
  coord_flip()


journal.pais %>% #limpio y restrinjo solo con social science
  mutate(Subjects = case_when(
    grepl("Social Science:", Subjects) ~ "Social Science",
    !grepl("Social Science:", Subjects) & grepl("Social Science", Subjects) ~ "Social Science",
    TRUE ~ Subjects
  )) %>%
  group_by(Subjects)%>%
  count()%>%
  filter(n>5)%>%
  arrange(desc(n)) %>%
  mutate(Subjects = reorder(Subjects, n)) %>%
  ggplot(aes(x = Subjects, y = n, fill = Subjects)) +
  geom_col () + # si agrego , fill = "blue" cambio color
  theme_minimal() +
  theme(legend.position = "n") +
  ylab("Temas") +
  xlab(NULL) +
  ggtitle("Temas de publicación de revistas en Colombia") +
  coord_flip()





journal.pais.ec <- journal.select %>% filter(country == "Ecuador")


total.pais <- length(journal.pais.ec$title)
total.pais
#total <- c("Total de pa?ses", total.journal)
#pais <- c("Ecuador", total.pais)
#porc.pais <- data.frame(total, pais)
#pie(porc.pais, labels = porc.pais)





journal.pais.ec %>%
  group_by(language)%>%
  count()%>%
  filter(n>1)%>%
  mutate(language = reorder(language, n)) %>%
  ggplot(aes(x = language, y = n, fill = language)) +
  geom_col () + # si agrego , fill = "blue" cambio color
  theme_minimal() +
  theme(legend.position = "n") +
  ylab("Número de veces que aparecen") +
  xlab(NULL) +
  ggtitle("Idiomas de publicación de revistas en Ecuador") +
  coord_flip()


#unificar idiomas
unify_languages <- function(language_string) {
  language_list <- strsplit(language_string, ", ")
  unified_languages <- sapply(language_list, function(x) paste(sort(unique(x)), collapse = ", "))
  return(unified_languages)
}


# Aplicar la función para crear una nueva columna con los idiomas unificados
data.ec <- journal.pais.ec %>%
  mutate(language_unique = unify_languages(language))


# Contar las combinaciones de idiomas unificadas y filtrar las duplicadas
data.ec <- data.ec %>%
  group_by(language_unique) %>%
  summarise(count = n()) %>%
  arrange(desc(count))


# Agrupar las combinaciones de idiomas únicas
unique_combinations <- data.ec %>%
  pull(language_unique) %>%
  unique()


#grafico
ggplot(data.ec, aes(x = count, y = fct_reorder(language_unique, (count)))) +
  geom_bar(stat = "identity", fill = "#750275") +
  theme_minimal() +
  labs(title = "Idiomas de publicación de revistas en Ecuador", x = "Número de veces que aparecen", y = "Idioma") +
  theme_minimal() +
  theme(axis.text.y = element_text(size = 10))


#otro gráfico
journal.pais.ec %>%
  group_by(Publisher) %>%
  count() %>%
  filter(n > 1) %>%
  arrange(n) %>%
  mutate(Publisher = factor(Publisher, levels = unique(Publisher))) %>%
  ggplot(aes(x = reorder(Publisher, n), y = n, fill = Publisher)) +
  geom_col() +
  scale_fill_viridis_d(option = "plasma", begin = 0.2, end = 0.8)+
  theme_minimal() +
  theme(legend.position = "none") +
  ylab("Cantidad de revistas publicadas por") +
  xlab(NULL) +
  ggtitle("Editorial de publicación de revistas en Ecuador") +
  coord_flip()


journal.pais.ec %>%
  group_by(license) %>%
  count() %>%
  filter(n > 1) %>%
  mutate(license = fct_reorder(license, n, .desc = TRUE)) %>%
  ggplot(aes(x = license, y = n, fill = license)) +
  geom_col() +
  scale_fill_viridis_d(option = "plasma", begin = 0.2, end = 0.8) +
  theme_minimal() +
  theme(legend.position = "none") +
  ylab("Cantidad de revistas publicadas por") +
  xlab(NULL) +
  ggtitle("Licencias de publicación de revistas en Ecuador") +
  coord_flip()


journal.pais.ec %>%
  group_by(Review)%>%
  count()%>%
  filter(n > 1) %>%
  arrange(n) %>%
  mutate(Review = fct_reorder(Review, n)) %>%
  ggplot(aes(x = Review, y = n, fill = Review)) +
  geom_col () + # si agrego , fill = "blue" cambio color
  scale_fill_viridis_d(option = "plasma", begin = 0.2, end = 0.8) +
  theme_minimal() +
  theme(legend.position = "n") +
  ylab("Proceso de revisión") +
  xlab(NULL) +
  ggtitle("Proceso de revisión de publicación de revistas en Ecuador") +
  coord_flip()


journal.pais.ec %>% #limpio y restrinjo solo con social science
  mutate(Subjects = case_when(
   grepl("Social Science:", Subjects) ~ "Social Science",
    !grepl("Social Science:", Subjects) & grepl("Social Science", Subjects) ~ "Social Science",
    TRUE ~ Subjects
  )) %>%
  group_by(Subjects)%>%
  count()%>%
  filter(n>1)%>%
  arrange(desc(n)) %>%
  mutate(Subjects = reorder(Subjects, n)) %>%
  ggplot(aes(x = Subjects, y = n, fill = Subjects)) +
  geom_col () + # si agrego , fill = "blue" cambio color
  scale_fill_viridis_d(option = "plasma", begin = 0.2, end = 0.8) +
  theme_minimal() +
  theme(legend.position = "n") +
  ylab("Temas") +
  xlab(NULL) +
  ggtitle("Temas de publicación de revistas en Ecuador") +
  coord_flip()
























