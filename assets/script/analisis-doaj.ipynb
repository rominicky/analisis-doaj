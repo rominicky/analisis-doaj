{
 "cells": [
  {
   "cell_type": "markdown",
   "id": "b80f68c2",
   "metadata": {},
   "source": [
    "# Análisis datos de DOAJ    "
   ]
  },
  {
   "cell_type": "markdown",
   "id": "ec11fc1c",
   "metadata": {},
   "source": [
    "##### Romina De León\n",
    "[romideleon@gmail.com](romideleon@gmail.com)"
   ]
  },
  {
   "cell_type": "markdown",
   "id": "e1197456",
   "metadata": {},
   "source": [
    "#### Limpieza del entorno y preparación de carpetas de trabajo"
   ]
  },
  {
   "cell_type": "code",
   "execution_count": null,
   "id": "7531efb4",
   "metadata": {
    "vscode": {
     "languageId": "r"
    }
   },
   "outputs": [],
   "source": [
    "rm(list = ls())\n",
    "\n"
   ]
  },
  {
   "cell_type": "markdown",
   "id": "e44e0a1f",
   "metadata": {},
   "source": [
    "#### Leemos el CSV"
   ]
  },
  {
   "cell_type": "code",
   "execution_count": 15,
   "id": "b6dc6ed1",
   "metadata": {
    "vscode": {
     "languageId": "r"
    }
   },
   "outputs": [],
   "source": [
    "input_path <- \"E:/hd-git/analisis-doaj/assets/datos/\"\n",
    "otuput_path <- \"E:/hd-git/analisis-doaj/assets/img/visualization/2025/\"\n",
    "journal <- read.csv(paste0(input_path, \"2025_journalcsv.csv\"))"
   ]
  },
  {
   "cell_type": "markdown",
   "id": "3f76016a",
   "metadata": {},
   "source": [
    "Instalacion y cargado de paquetes"
   ]
  },
  {
   "cell_type": "code",
   "execution_count": null,
   "id": "7a541f57",
   "metadata": {
    "vscode": {
     "languageId": "r"
    }
   },
   "outputs": [
    {
     "name": "stderr",
     "output_type": "stream",
     "text": [
      "Warning message:\n",
      "\"dependencies 'MASS', 'Matrix' are not available\"\n",
      "also installing the dependencies 'lattice', 'sys', 'bit', 'ps', 'sass', 'cachem', 'nlme', 'farver', 'labeling', 'RColorBrewer', 'viridisLite', 'rappdirs', 'rematch', 'askpass', 'bit64', 'prettyunits', 'processx', 'highr', 'xfun', 'yaml', 'bslib', 'fontawesome', 'jquerylib', 'tinytex', 'backports', 'generics', 'memoise', 'blob', 'DBI', 'R6', 'tidyselect', 'withr', 'data.table', 'gtable', 'isoband', 'mgcv', 'scales', 'gargle', 'cellranger', 'curl', 'ids', 'rematch2', 'cpp11', 'pkgconfig', 'mime', 'openssl', 'timechange', 'systemfonts', 'textshaping', 'clipr', 'vroom', 'tzdb', 'progress', 'callr', 'fs', 'knitr', 'rmarkdown', 'selectr', 'stringi', 'broom', 'conflicted', 'dbplyr', 'dplyr', 'dtplyr', 'forcats', 'ggplot2', 'googledrive', 'googlesheets4', 'haven', 'hms', 'httr', 'lubridate', 'magrittr', 'modelr', 'purrr', 'ragg', 'readr', 'readxl', 'reprex', 'rstudioapi', 'rvest', 'stringr', 'tibble', 'tidyr', 'xml2'\n",
      "\n",
      "\n"
     ]
    }
   ],
   "source": [
    "install.packages(\"tidyverse\")\n",
    "install.packages(\"datos\")\n",
    "install.packages(\"gapminder\")\n",
    "install.packages(\"tradestatistics\")\n",
    "install.packages(\"highcharter\")\n",
    "install.packages(\"ggplot2\")\n",
    "install.packages(\"treemapify\", dependencies = TRUE, INSTALL_opts = '--no-lock')\n",
    "install.packages('magritter')\n",
    "install.packages('rio')\n",
    "install.packages('xlsx')\n",
    "install.packages(\"scico\")\n",
    "install.packages(\"Cairo\")\n"
   ]
  },
  {
   "cell_type": "code",
   "execution_count": null,
   "id": "8b42934f",
   "metadata": {
    "vscode": {
     "languageId": "r"
    }
   },
   "outputs": [],
   "source": [
    "library(scico)\n",
    "library(Cairo)\n",
    "library(treemapify)\n",
    "library(tidyverse)\n",
    "library(tidytext)\n",
    "library(dplyr)\n",
    "library(ggplot2)\n",
    "library(gapminder)\n",
    "library(magrittr) #algunos los vuelvo a llamar por error al correr el script\n",
    "library(tidyselect)\n",
    "library(purrr)\n",
    "library(readr)\n",
    "library(rio)\n",
    "#library(xlsx) ver porque necesita java\n",
    "library(stringr)\n",
    "library(highcharter)\n",
    "library(webshot)\n",
    "library(htmlwidgets)"
   ]
  },
  {
   "cell_type": "code",
   "execution_count": null,
   "id": "038e1c9b",
   "metadata": {
    "vscode": {
     "languageId": "r"
    }
   },
   "outputs": [],
   "source": [
    "as_tibble(journal)\n",
    "#nueva tabla con datos de interes \n",
    "\n",
    "colnames(journal)\n",
    "\n",
    "journal.select <- journal%>% select(Journal.title, Country.of.publisher, Languages.in.which.the.journal.accepts.manuscripts, Journal.license, Publisher, Review.process, Subjects, APC, Persistent.article.identifiers, Keywords)\n",
    "\n",
    "\n",
    "journal.select <- journal.select %>%\n",
    "  rename(title = Journal.title) %>%\n",
    "  rename(country = Country.of.publisher) %>%\n",
    "  rename(language = Languages.in.which.the.journal.accepts.manuscripts) %>%\n",
    "  rename (license = Journal.license) %>%\n",
    "  rename (Review = Review.process) %>%\n",
    "  rename (Ids = Persistent.article.identifiers)\n",
    "\n",
    "\n",
    "#dejo solo las primeras palabras de subjects\n",
    "\n",
    "journal.select$Subjects <- str_extract(journal.select$Subjects, \"\\\\w+(?:[^\\\\w]+\\\\w+){0,1}\")\n",
    "\n",
    "#elimino los signos de puntuación\n",
    "journal.select$Subjects <- gsub(\"[[:punct:]]\", \"\", journal.select$Subjects)\n",
    "\n",
    "journal.select <- journal.select %>%\n",
    "  mutate(Subjects = str_trim(Subjects)) %>%\n",
    "  mutate(Subjects = sapply(Subjects, function(x) {\n",
    "    words <- str_split(x, \"\\\\s{2,}|,|\\\\s*\\\\band\\\\b\\\\s*|\\\\s+\")[[1]]  # dividir por palabras, \"and\", comas, o espacios\n",
    "    words <- unique(words[words != \"\"])  # eliminar vacíos y duplicados\n",
    "    paste(words, collapse = \" \")\n",
    "  }))\n"
   ]
  },
  {
   "cell_type": "code",
   "execution_count": null,
   "id": "058ec958",
   "metadata": {
    "vscode": {
     "languageId": "r"
    }
   },
   "outputs": [],
   "source": [
    "\n",
    "# Crear una función para ordenar los idiomas en una lista\n",
    "sort_languages <- function(language_list) {\n",
    "  sorted_languages <- sort(unlist(strsplit(language_list, \", \")))\n",
    "  #sorted_languages <- unique(sorted_languages)  # Eliminar duplicados\n",
    "  return(paste(sorted_languages, collapse = \", \"))\n",
    "}\n",
    "\n",
    "# Aplicar la función a cada celda en la columna 'language'\n",
    "journal.select$language <- sapply(journal.select$language, sort_languages)\n",
    "\n",
    "# Crear una función para ordenar los ids\n",
    "sort_ids <- function(ids_list) {\n",
    "  sorted_ids <- sort(unlist(strsplit(ids_list, \", \")))\n",
    "  #sorted_languages <- unique(sorted_languages)  # Eliminar duplicados\n",
    "  return(paste(sorted_ids, collapse = \", \"))\n",
    "}\n",
    "\n",
    "# Aplicar la función a cada celda en la columna 'language'\n",
    "journal.select$Ids <- sapply(journal.select$Ids, sort_ids)\n",
    "\n",
    "\n",
    "\n",
    " #journal.select <- journal.select[order(journal.select$language), ]\n",
    "\n",
    "porcen_journal <- journal.select %>%\n",
    "  group_by(country)%>%\n",
    "  count()%>%\n",
    "  ungroup()%>%\n",
    "  mutate(percentage= n /sum(n)*100) %>%\n",
    "  bind_rows(data.frame(country = \"Total\", n = NA, percentage = sum(.$percentage)))\n",
    "\n",
    "#grafico con porcentajes \n",
    "\n",
    "\n",
    "# Filtrar los países de América Latina\n",
    "selected_countries <- c(\"Brazil\", \"Argentina\", \"Mexico\", \"Colombia\", \"Ecuador\", \"Costa Rica\", \"Bolivia, Plurinational State of\", \"Dominican Republic\", \"El Salvador\", \"Guatemala\", \"\t\n",
    "Honduras\", \"Nicaragua\", \"Panama\", \"Chile\", \"Paraguay\", \"Peru\", \"Uruguay\", \"Venezuela, Bolivarian Republic of\")\n",
    "filtered_data <- porcen_journal %>% filter(country %in% selected_countries)\n",
    "\n"
   ]
  },
  {
   "cell_type": "code",
   "execution_count": null,
   "id": "a6ec12b9",
   "metadata": {
    "vscode": {
     "languageId": "r"
    }
   },
   "outputs": [],
   "source": [
    "\n",
    "paises_total <- hchart(\n",
    " filtered_data,\n",
    "  type = \"pie\",\n",
    "  hcaes(x = country, y = percentage), \n",
    "  dataLabels = list(enabled = TRUE),  # Deshabilitar etiquetas de datos\n",
    "  showInLegend = TRUE\n",
    ") %>%\n",
    "  hc_title(text = \"<b>Porcentaje de países de América Latina</b>\") %>%\n",
    "  hc_subtitle(text = \"<i>Países de América Latina respecto al total de los países del mundo</i>\") %>%\n",
    "  hc_exporting(\n",
    "    enabled = TRUE, # Habilitar exportación\n",
    "    filename = \"paises_total\"\n",
    "  ) %>%\n",
    "  hc_plotOptions(\n",
    "    pie = list(\n",
    "      allowPointSelect = TRUE,\n",
    "      cursor = \"pointer\"\n",
    "    )\n",
    "  ) %>%\n",
    "  hc_legend(\n",
    "    enabled = TRUE, \n",
    "    layout = \"horizontal\",\n",
    "    align = \"center\",\n",
    "    verticalAlign = \"bottom\",\n",
    "    y = 8,  # Ajustar la posición vertical de la leyenda\n",
    "    itemStyle = list(fontSize = \"12px\", fontWeight = \"normal\"),\n",
    "    labelFormat = \"{name}: {percentage:.1f}%\"\n",
    "  )%>%\n",
    "  hc_credits( #https://api.highcharts.com/highcharts/\n",
    "    enabled = TRUE,\n",
    "    text = \"Citar como: Romina De León, 2025. Análisis de revistas latinoamericanas en DOAJ.\",\n",
    "    href = \"https://github.com/rominicky/analisis-doaj\",\n",
    "    itemStyle = list(fontSize = \"8px\", fontWeight = \"normal\"),\n",
    "    position = list(align = \"left\", x = 10, y = -5)  # <-- Esto alinea a la izquierda\n",
    "  )\n",
    "saveWidget(paises_total, file = \"paises_total-interactivo_amlat_2024.html\")\n"
   ]
  },
  {
   "cell_type": "code",
   "execution_count": null,
   "id": "5c8c265d",
   "metadata": {
    "vscode": {
     "languageId": "r"
    }
   },
   "outputs": [],
   "source": [
    "total.journal <- length(journal.select$title)\n",
    "total.journal\n",
    "\n",
    "#en todo el mundo \n",
    "journal.select %>%\n",
    "  group_by(language)%>%\n",
    "  count()%>%\n",
    "  filter(n >= 100 )%>%\n",
    "  mutate(language = reorder(language, n)) %>%\n",
    "  ggplot(aes(x = reorder(language, n), y = n, fill = language)) +\n",
    "  geom_col () + # si agrego , fill = \"blue\" cambio color\n",
    "  #scale_fill_manual(values = rainbow(length(unique(datos$language)))) +\n",
    "  scale_fill_viridis_d(option = \"C\" ) +\n",
    "  theme_minimal() +\n",
    "  theme(legend.position = \"n\") +\n",
    "  ylab(\"Número de veces que aparecen\") +\n",
    "  xlab(NULL) +\n",
    "  ggtitle(\"Idiomas de publicación de revistas en todo el mundo\") +\n",
    "  coord_flip() +\n",
    "  labs(caption = \"Citar como: Romina De León, 2025. Análisis de revistas latinoamericanas en DOAJ.\")\n",
    "\n",
    "ggsave(\"idiomas-total_min100-2024.jpg\", width = 3000, height = 1500, units = \"px\", dpi = 300)\n"
   ]
  },
  {
   "cell_type": "code",
   "execution_count": null,
   "id": "e0c8d353",
   "metadata": {
    "vscode": {
     "languageId": "r"
    }
   },
   "outputs": [],
   "source": [
    "\n",
    "#idioma por pais\n",
    "journal.select %>%\n",
    "  group_by(country, language) %>%\n",
    "  count() %>%\n",
    "  ungroup() %>%\n",
    "  filter(n >= 50 & n <= 750) %>%\n",
    "  #mutate(language = reorder(language, n)) %>%  # idiomas por frecuencia\n",
    "  ggplot(aes(x = reorder(language, n), y = n, fill = country)) +  # n como valor numérico\n",
    "  geom_col() +\n",
    "  coord_flip() +\n",
    "  theme_minimal() + \n",
    "  theme(legend.position = \"n\"\n",
    "    #plot.caption = element_text(hjust = 0, face = \"italic\", size = 9),\n",
    "    #plot.margin = unit(c(1, 1, 2, 1), \"cm\")\n",
    "  ) +\n",
    "  ylab(\"Número de publicaciones\") +\n",
    "  #xlab(NULL) +\n",
    "  ggtitle(\"Publicaciones por idioma y país\") +\n",
    "  labs(caption = \"Citar como: Romina De León, 2025. Análisis de revistas latinoamericanas en DOAJ.\")\n",
    "ggsave(\"publ_paises-idiomas-total_min50-mx750-2024.jpg\", width = 3000, height = 1500, units = \"px\", dpi = 300)\n"
   ]
  },
  {
   "cell_type": "code",
   "execution_count": null,
   "id": "3a32fdee",
   "metadata": {
    "vscode": {
     "languageId": "r"
    }
   },
   "outputs": [],
   "source": [
    "\n",
    "journal.select %>%\n",
    "  group_by(country, language) %>%\n",
    "  count() %>%\n",
    "  ungroup() %>%\n",
    "  filter(n >= 50 & n <= 5500) %>%\n",
    "  mutate(country = reorder_within(country, n, language)) %>%  # para que ordene dentro de cada panel\n",
    "  ggplot(aes(x = country, y = n, fill = country)) +\n",
    "  geom_col(show.legend = FALSE) +\n",
    "  coord_flip() +\n",
    "  facet_wrap(~ language, scales = \"free_y\") +  # un panel por idioma\n",
    "  scale_x_reordered() +  # necesario con reorder_within\n",
    "  theme_minimal() +\n",
    "  theme(\n",
    "    plot.caption = element_text(hjust = 0, face = \"italic\", size = 9),\n",
    "    strip.text = element_text(size = 10, face = \"bold\")\n",
    "  ) +\n",
    "  xlab(NULL) +\n",
    "  ylab(\"Número de publicaciones\") +\n",
    "  ggtitle(\"Publicaciones por país en cada idioma\") +\n",
    "  labs(caption = \"Citar como: Romina De León, 2025. Análisis de revistas latinoamericanas en DOAJ.\")\n",
    "\n",
    "\n"
   ]
  },
  {
   "cell_type": "code",
   "execution_count": null,
   "id": "232aaedc",
   "metadata": {
    "vscode": {
     "languageId": "r"
    }
   },
   "outputs": [],
   "source": [
    "\n",
    "# por continente \n",
    "# Instalar la librería si no está instalada\n",
    "install.packages(\"countrycode\")\n",
    "#VER tooltip_table\n",
    "# Cargar las librerías \n",
    "library(countrycode)\n",
    "library(ggplot2)\n",
    "library(dplyr)\n",
    "library(viridis)\n",
    "# \n",
    "journal.select <- journal.select %>%\n",
    "  mutate(continent = countrycode(country, \"country.name\", \"continent\"))\n",
    "\n",
    "# Por continente\n",
    "journal.select %>%\n",
    "  group_by(language, country, continent) %>%\n",
    "  count() %>%\n",
    "  filter(n >= 100 ) %>%\n",
    "  mutate(language = reorder(language, n)) %>%\n",
    "  ggplot(aes(x = language, y = n, fill = country)) +  \n",
    "  geom_col(show.legend = FALSE) +  \n",
    "  #geom_text(aes(label = n), vjust = -0.5, size = 3, color = \"black\") +\n",
    "  theme_minimal() +\n",
    "  ylab(\"Número de publicaciones\") +\n",
    "  xlab(NULL) +\n",
    "  ggtitle(\"Idiomas de publicación en todo el mundo diferenciado por países\") +\n",
    "  coord_flip() +\n",
    "  labs(caption = \"Citar como: Romina De León, 2025. Análisis de revistas latinoamericanas en DOAJ.\") +\n",
    "  facet_wrap(~ continent) +  # Usar facetas por continente\n",
    "  scale_fill_viridis_d(option = \"H\") +  # Usar una paleta con más colores\n",
    "  theme(\n",
    "    plot.title = element_text(hjust = 0.5, size = 16),\n",
    "    axis.text.x = element_text(size = 10, angle = 45, hjust = 1),\n",
    "    axis.text.y = element_text(size = 10),\n",
    "    axis.title.y = element_text(size = 12),\n",
    "    plot.margin = margin(10, 10, 10, 10)\n",
    "  )\n",
    "ggsave(\"idiomas-continente_min100.jpg\", width = 3000, height = 1500, units = \"px\", dpi = 300)\n",
    "class(journal.select)\n",
    "\n",
    "#similar con botones\n",
    "# journal.select %>%\n",
    "#   group_by(language, country, continent) %>%\n",
    "#   count() %>%\n",
    "#   filter(n >= 25 & n<= 150) %>%\n",
    "#   mutate(language = reorder(language, n)) %>%\n",
    "#   ggplot(aes(x = language, y = n, fill = country)) +  \n",
    "#   geom_col(show.legend = FALSE) +  # Eliminamos la leyenda de los países\n",
    "#   #geom_text(aes(label = n), vjust = -0.5, size = 3, color = \"black\") +  \n",
    "#   theme_minimal() +\n",
    "#   ylab(\"Número de publicaciones\") +\n",
    "#   xlab(NULL) +\n",
    "#   ggtitle(\"Idiomas de publicación de revistas en todo el mundo por país\") +\n",
    "#   coord_flip() +\n",
    "#   labs(caption = \"Citar como: Romina De León, 2025. Análisis de revistas latinoamericanas en DOAJ.\") +\n",
    "#   facet_wrap(~ continent, scales = \"free_y\") +  # Ajusta las escalas de cada faceta por continente\n",
    "#   scale_fill_viridis_d(option = \"H\") +  # Paleta viridis con más colores, ajustada para una mejor visualización\n",
    "#   theme(\n",
    "#     plot.title = element_text(hjust = 0.5, size = 16),\n",
    "#     axis.text.x = element_text(size = 10, angle = 45, hjust = 1),  # Ajusta la rotación para los textos en el eje X\n",
    "#     axis.text.y = element_text(size = 10),\n",
    "#     axis.title.y = element_text(size = 10),\n",
    "#     plot.margin = margin(10, 10, 10, 10),\n",
    "#     strip.text = element_text(size = 10),  # Títulos de las facetas más grandes\n",
    "#     strip.background = element_rect(fill = \"lightgray\")  # Fondo gris claro para las facetas\n",
    "#   )\n",
    "#ggsave(\"idiomas-cont_min25_mx150.jpg\", width = 3000, height = 1500, units = \"px\", dpi = 300)\n",
    "\n",
    "\n"
   ]
  },
  {
   "cell_type": "code",
   "execution_count": null,
   "id": "6e26b211",
   "metadata": {
    "vscode": {
     "languageId": "r"
    }
   },
   "outputs": [],
   "source": [
    "##AMERICA LATINA\n",
    "\n",
    "journal.amlat <- journal.select[journal.select$country %in% selected_countries, ]\n",
    "\n",
    "total.pais <- length(journal.amlat$title)\n",
    "total.pais\n",
    "#total <- c(\"Total de pa?ses\", total.journal)\n",
    "#pais <- c(\"América Latina\", total.pais)\n",
    "#porc.pais <- data.frame(total, pais)\n",
    "#pie(porc.pais, labels = porc.pais)\n",
    "\n",
    "#journal.amlat ver de unificar idiomas que tengan distinto orden y juntar las ciencias sociales \n",
    "\n"
   ]
  },
  {
   "cell_type": "code",
   "execution_count": null,
   "id": "69382afa",
   "metadata": {
    "vscode": {
     "languageId": "r"
    }
   },
   "outputs": [],
   "source": [
    "\n",
    "journal.amlat %>%\n",
    "  filter(Subjects == \"Social Sciences\") %>%  # Cambié \"=\" a \"==\" para la comparación\n",
    "  group_by(language) %>%\n",
    "  count() %>%\n",
    "  filter(n >= 1) %>%\n",
    "  mutate(language = reorder(language, n)) %>%\n",
    "  ggplot(aes(x = reorder(language, n), y = n, fill = language)) +\n",
    "  geom_col() +\n",
    "  theme_minimal() +\n",
    "  theme(legend.position = \"n\") +  # Cambié \"n\" a \"none\" para ocultar la leyenda\n",
    "  scale_fill_viridis_d(option = \"G\") +\n",
    "  ylab(\"Número de veces que aparecen\") +\n",
    "  xlab(NULL) +\n",
    "  ggtitle(\"Idiomas de publicaciones sobre 'Social Sciences' en América Latina\") +\n",
    "  coord_flip() +\n",
    "  labs(caption = \"Citar como: Romina De León, 2025. Análisis de revistas latinoamericanas en DOAJ.\")\n",
    "ggsave(\"area_social_sciences_idioma_AmLatina.png\", width = 3000, height = 1500, units = \"px\", dpi = 300)\n",
    "\n"
   ]
  },
  {
   "cell_type": "code",
   "execution_count": null,
   "id": "af9dc9d9",
   "metadata": {
    "vscode": {
     "languageId": "r"
    }
   },
   "outputs": [],
   "source": [
    "\n",
    "journal.amlat %>%\n",
    "  filter(Subjects %in% c(\"History\", \"Education History\", \"Education Social\", \"History General\", \"History America\", \"Language\", \"Philosophy\", \"Political Science\", \"Education Theory\", \"Bibliography Library\", \"Auxiliary sciences\", \"Education Special\", \"Education\", \"Social Sciences\")) %>%\n",
    "  group_by(language) %>%\n",
    "  count() %>%\n",
    "  filter(n >= 3) %>%\n",
    "  mutate(language = reorder(language, n)) %>%\n",
    "  ggplot(aes(x = reorder(language, n), y = n, fill = language)) +\n",
    "  geom_col() +\n",
    "  theme_minimal() +\n",
    "  theme(legend.position = \"n\") +  # Cambié \"n\" a \"none\" para ocultar la leyenda\n",
    "  scale_fill_viridis_d(option = \"G\") +\n",
    "  ylab(\"Número de veces que aparecen\") +\n",
    "  xlab(NULL) +\n",
    "  ggtitle(\"Idiomas de publicaciones sobre Ciencias Sociales y Humanidades en América Latina\") +\n",
    "  coord_flip() +\n",
    "  labs(caption = \"Citar como: Romina De León, 2025. Análisis de revistas latinoamericanas en DOAJ.\")  \n",
    "ggsave(\"area_cssoc_idioma_AmLatina.png\", width = 3000, height = 1500, units = \"px\", dpi = 300)  \n",
    "  \n"
   ]
  },
  {
   "cell_type": "code",
   "execution_count": null,
   "id": "908e090d",
   "metadata": {
    "vscode": {
     "languageId": "r"
    }
   },
   "outputs": [],
   "source": [
    "#############################################################\n",
    "#Voy a unificar las social sciences en una \n",
    "# Crear un gráfico de barras apiladas\n",
    "journal.amlat %>%\n",
    "  group_by(language, country) %>%\n",
    "  count() %>%\n",
    "  filter(n >= 10) %>%\n",
    "  mutate(language = reorder(language, n)) %>%\n",
    "  ggplot(aes(x = language, y = n, fill = country)) +\n",
    "  geom_col() +\n",
    "  #geom_text(aes(label = n), hjust = -0.1, size = 3) +\n",
    "  scale_fill_viridis_d(option = \"D\") +\n",
    "  #scale_y_continuous(labels = comma) +\n",
    "  theme_minimal() +\n",
    "  theme(\n",
    "    legend.position = \"right\",\n",
    "    plot.title = element_text(face = \"bold\", size = 14),\n",
    "    axis.text.y = element_text(size = 10)\n",
    "  ) +\n",
    "  ylab(\"Número de publicaciones\") +\n",
    "  xlab(\"Idioma\") +\n",
    "  ggtitle(\n",
    "    \"Distribución de idiomas en publicaciones académicas de América Latina\",\n",
    "    subtitle = \"Solo se muestran combinaciones con al menos 10 registros\"\n",
    "  ) +\n",
    "  coord_flip() +\n",
    "  labs(caption = \"Citar como: Romina De León, 2025. Análisis de revistas latinoamericanas en DOAJ.\")\n",
    "ggsave(\"idiomas-amlat_min10.jpg\", width = 3000, height = 1500, units = \"px\", dpi = 300)\n"
   ]
  },
  {
   "cell_type": "code",
   "execution_count": null,
   "id": "cab83b97",
   "metadata": {
    "vscode": {
     "languageId": "r"
    }
   },
   "outputs": [],
   "source": [
    "\n",
    "english <- journal.amlat[journal.amlat$language == \"English\", ]\n",
    "colnames(english)\n",
    "\n",
    "# Crear el gráfico de dispersión con etiquetas de conteo\n",
    "ggplot(journal.amlat %>% \n",
    "         group_by(language, country, Subjects) %>% \n",
    "         summarise(count = n()) %>% \n",
    "         filter(count >= 4 ) %>% \n",
    "         mutate(language = reorder(language, count)), \n",
    "       aes(x = country, y = language, color = Subjects)) +\n",
    "  geom_point(size = 5, alpha = 0.7) +\n",
    "  theme_minimal() +\n",
    "  theme(\n",
    "    plot.title = element_text(hjust = 1 , size = 16),  # Espacio bajo el título\n",
    "    axis.text.x = element_text(angle = 60, hjust = 1),\n",
    "    legend.position = \"right\",\n",
    "    legend.box = \"horizontal\",\n",
    "    legend.title = element_text(size = 7),\n",
    "    legend.text = element_text(size = 7),\n",
    "    legend.spacing.y = unit(0.1, \"cm\"),  # Espacio entre filas de leyenda\n",
    "    plot.margin = margin(t = 20, r = 20, b = 20, l = 80)\n",
    "  ) +\n",
    "  guides(color = guide_legend(ncol = 2, byrow = TRUE)) +\n",
    "  labs(caption = \"Citar como: Romina De León, 2025. Análisis de revistas latinoamericanas en DOAJ.\") +\n",
    "  ylab(\"Idiomas\") +\n",
    "  xlab(\"Países\") +\n",
    "  ggtitle(\"Relaciones entre:\n",
    "          países, idiomas y áreas en publicaciones de América Latina\") +\n",
    "  #scale_color_scico_d(palette = \"berlin\")  # También probá: \"lajolla\", \"tokyo\", \"batlow\"\n",
    "  scale_color_viridis_d(option = \"D\")  # Utilizar una paleta de colores como Viridis\n",
    "ggsave(\"relacion_idiomas_temas-amlat.jpg\",\n",
    "       width = 3800, height = 1900, units = \"px\", dpi = 300)\n",
    "\n",
    "\n"
   ]
  },
  {
   "cell_type": "code",
   "execution_count": null,
   "id": "8297f908",
   "metadata": {
    "vscode": {
     "languageId": "r"
    }
   },
   "outputs": [],
   "source": [
    "library(viridis)\n",
    "\n",
    "# ggplot(english, aes(x = country, fill = Subjects)) +\n",
    "#   geom_bar(position = \"stack\") +\n",
    "#   scale_fill_viridis_d(option = \"D\") +  # Usar la paleta viridis\n",
    "#   theme_minimal() +\n",
    "#   theme(axis.text.x = element_text(angle = 45, hjust = 1)) +\n",
    "#   ylab(\"Número de registros\") +\n",
    "#   xlab(\"Países\") +\n",
    "#   ggtitle(\"Distribución de temas por países de América Latina con publicaciones unicamente en Inglés\")\n",
    "\n",
    "#otro gráfico\n",
    "journal.amlat %>%\n",
    "  group_by(Publisher)%>%\n",
    "  count()%>%\n",
    "  filter(n>15)%>%\n",
    "  mutate(Publisher = reorder(Publisher, n)) %>%\n",
    "  ggplot(aes(x = reorder(Publisher, n), y = n, fill = Publisher)) +  # Ordenar x según la frecuencia -n\n",
    "  geom_col () + # si agrego , fill = \"blue\" cambio color\n",
    "  theme_minimal() +\n",
    "  theme(legend.position = \"n\") +\n",
    "  scale_color_scico_d(palette = \"bilbao\") +\n",
    "  ylab(\"Cantidad de revistas publicadas por\") +\n",
    "  xlab(NULL) +\n",
    "  ggtitle(\"Editorial de publicación de revistas en América Latina\",\n",
    "    subtitle = \"Restringido a editoriales con más de 15 revistas\") +\n",
    "  coord_flip() +\n",
    "  labs(caption = \"Citar como: Romina De León, 2025. Análisis de revistas latinoamericanas en DOAJ.\")\n",
    "ggsave(\"editorial_América Latina_min15.jpg\", width = 3000, height = 1500, units = \"px\", dpi = 300)\n"
   ]
  },
  {
   "cell_type": "code",
   "execution_count": null,
   "id": "d1eb5150",
   "metadata": {
    "vscode": {
     "languageId": "r"
    }
   },
   "outputs": [],
   "source": [
    "\n",
    "journal.amlat %>%\n",
    "  group_by(license) %>%\n",
    "  count() %>%\n",
    "  filter(n >= 10) %>%\n",
    "  mutate(license = reorder(license, n)) %>%\n",
    "  ggplot(aes(x = reorder(license, n), y = n, fill = license)) +\n",
    "  geom_col() +\n",
    "  scale_fill_scico_d(palette = \"lapaz\") +\n",
    "  theme_minimal() +\n",
    "  theme(legend.position = \"n\") +  # debe ser \"none\", no \"n\"\n",
    "  ylab(\"Frecuencias\") +\n",
    "  xlab(\"Tipo de licencias\") +\n",
    "  ggtitle(\"Licencias utilizadas por revistas en América Latina\") +\n",
    "  coord_flip() +\n",
    "  labs(caption = \"Citar como: Romina De León, 2025. Análisis de revistas latinoamericanas en DOAJ.\")\n",
    "ggsave(\"licencia_AmLatina_min5.png\", width = 3000, height = 1500, units = \"px\", dpi = 300)\n"
   ]
  },
  {
   "cell_type": "code",
   "execution_count": null,
   "id": "4ea9eaa4",
   "metadata": {
    "vscode": {
     "languageId": "r"
    }
   },
   "outputs": [],
   "source": [
    "\n",
    "journal.amlat %>%\n",
    "  group_by(Review)%>%\n",
    "  count()%>%\n",
    "  filter(n>=5)%>%\n",
    "  mutate(Review = fct_reorder(Review, n)) %>%\n",
    "  ggplot(aes(x = reorder(Review, n), y = n, fill = Review)) +\n",
    "  geom_col () + # si agrego , fill = \"blue\" cambio color\n",
    "  scale_fill_scico_d(palette = \"berlin\") +\n",
    "  theme_minimal() +\n",
    "  theme(legend.position = \"n\") +\n",
    "  ylab(\"Frecuencia\") +\n",
    "  xlab(\"Tipo de revisiones\") +\n",
    "  ggtitle(\"Proceso de revisión para publicaciones para las revistas de América Latina\") +\n",
    "  scale_color_scico_d(palette = \"lajolla\") +\n",
    "  coord_flip() +\n",
    "  labs(caption = \"Citar como: Romina De León, 2025. Análisis de revistas latinoamericanas en DOAJ.\")\n",
    "ggsave(\"revision_AmLatina_min10.png\", width = 3000, height = 1500, units = \"px\", dpi = 300)\n"
   ]
  },
  {
   "cell_type": "code",
   "execution_count": null,
   "id": "e12e5abd",
   "metadata": {
    "vscode": {
     "languageId": "r"
    }
   },
   "outputs": [],
   "source": [
    "\n",
    "journal.amlat %>%\n",
    "  group_by(Subjects) %>%\n",
    "  count() %>%\n",
    "  filter(n > 10) %>%\n",
    "  mutate(Subjects = fct_reorder(Subjects, n)) %>%\n",
    "  ggplot(aes(x = reorder(Subjects, n), y = n, fill = Subjects)) +\n",
    "  geom_col() +\n",
    "  theme_minimal() +\n",
    "  theme(legend.position = \"n\") +\n",
    "  ylab(\"Frecuencia\") +\n",
    "  xlab(\"Áreas\") +\n",
    "  ggtitle(\"Áreas de publicación de revistas en América Latina\",\n",
    "          subtitle = \"Frecuencia mayor a 10\") +\n",
    "  scale_fill_scico_d(palette = \"lapaz\") +\n",
    "  coord_flip() +\n",
    "  labs(caption = \"Citar como: Romina De León, 2025. Análisis de revistas latinoamericanas en DOAJ.\")\n",
    "ggsave(\"areas_amLatina_min10.jpg\", width = 3000, height = 1500, units = \"px\", dpi = 300)\n",
    "\n",
    "\n"
   ]
  },
  {
   "cell_type": "markdown",
   "id": "ec9ecc78",
   "metadata": {},
   "source": [
    "Función para análisis por países"
   ]
  },
  {
   "cell_type": "code",
   "execution_count": null,
   "id": "1528913a",
   "metadata": {
    "vscode": {
     "languageId": "r"
    }
   },
   "outputs": [],
   "source": [
    "\n",
    "analizar_pais <- function(pais, data = journal.amlat) {\n",
    "  library(dplyr)\n",
    "  library(ggplot2)\n",
    "  \n",
    "  # Filtrar datos por país\n",
    "  journal.pais <- data %>% filter(country == pais)\n",
    "  \n",
    "  # Mostrar total de revistas\n",
    "  total.pais <- length(journal.pais$title)\n",
    "  print(paste(\"Total de revistas en\", pais, \":\", total.pais))\n",
    "  # Helper para guardar\n",
    "  guardar_grafico <- function(plot, nombre, pais) {\n",
    "    ruta <- file.path(path_wd, paste0(nombre, \"_\", pais, \".jpg\"))\n",
    "    ggsave(ruta, plot = plot, width = 3000, height = 1500, units = \"px\", dpi = 300)\n",
    "  }\n",
    "  \n",
    "  # Gráfico por idioma\n",
    "  g1 <- journal.pais %>%\n",
    "    group_by(language) %>%\n",
    "    count() %>%\n",
    "    filter(n > 5) %>%\n",
    "    mutate(language = reorder(language, n)) %>%\n",
    "    ggplot(aes(x = reorder(language, n), y = n, fill = language)) +\n",
    "    geom_col() +\n",
    "    theme_minimal() +\n",
    "    theme(legend.position = \"n\") +\n",
    "    ylab(\"Número de veces que aparecen\") +\n",
    "    xlab(NULL) +\n",
    "    ggtitle(paste(\"Idiomas de publicación de revistas en\", pais)) +\n",
    "    coord_flip() +\n",
    "    labs(caption = \"Citar como: Romina De León, 2025. Análisis de revistas latinoamericanas en DOAJ.\") \n",
    "  print(g1)\n",
    "  guardar_grafico(g1, \"idiomas_\", pais)\n",
    "  \n",
    "  # Gráfico por editorial\n",
    "  g2 <- journal.pais %>%\n",
    "    group_by(Publisher) %>%\n",
    "    count() %>%\n",
    "    filter(n > 5) %>%\n",
    "    mutate(Publisher = reorder(Publisher, n)) %>%\n",
    "    ggplot(aes(x = reorder(Publisher, n), y = n, fill = Publisher)) +\n",
    "    geom_col() +\n",
    "    theme_minimal() +\n",
    "    theme(legend.position = \"none\") +\n",
    "    ylab(\"Cantidad de revistas publicadas por\") +\n",
    "    xlab(NULL) +\n",
    "    ggtitle(paste(\"Editorial de publicación de revistas en\", pais)) +\n",
    "    coord_flip() +\n",
    "    labs(caption = \"Citar como: Romina De León, 2025. Análisis de revistas latinoamericanas en DOAJ.\")\n",
    "  print(g2)\n",
    "  guardar_grafico(g2, \"editorial_\", pais)\n",
    "  \n",
    "  # Gráfico por licencias\n",
    "  g3 <- journal.pais %>%\n",
    "    group_by(license) %>%\n",
    "    count() %>%\n",
    "    filter(n > 1) %>%\n",
    "    mutate(license = reorder(license, n)) %>%\n",
    "    ggplot(aes(x = reorder(license, n), y = n, fill = license)) +\n",
    "    geom_col() +\n",
    "    theme_minimal() +\n",
    "    theme(legend.position = \"none\") +\n",
    "    ylab(\"Tipo de licencias\") +\n",
    "    xlab(NULL) +\n",
    "    ggtitle(paste(\"Licencias de publicación de revistas en\", pais)) +\n",
    "    coord_flip() +\n",
    "    labs(caption = \"Citar como: Romina De León, 2025. Análisis de revistas latinoamericanas en DOAJ.\")\n",
    "  print(g3)\n",
    "  guardar_grafico(g3, \"licencias_\", pais)\n",
    "  \n",
    "  # Gráfico por proceso de revisión\n",
    "  g4 <- journal.pais %>%\n",
    "    group_by(Review) %>%\n",
    "    count() %>%\n",
    "    filter(n > 5) %>%\n",
    "    mutate(Review = reorder(Review, n)) %>%\n",
    "    ggplot(aes(x = reorder(Review, n), y = n, fill = Review)) +\n",
    "    geom_col() +\n",
    "    theme_minimal() +\n",
    "    theme(legend.position = \"none\") +\n",
    "    ylab(\"Proceso de revisión\") +\n",
    "    xlab(NULL) +\n",
    "    ggtitle(paste(\"Proceso de revisión de revistas en\", pais)) +\n",
    "    coord_flip() +\n",
    "    labs(caption = \"Citar como: Romina De León, 2025. Análisis de revistas latinoamericanas en DOAJ.\")\n",
    "  print(g4)\n",
    "  guardar_grafico(g4, \"revision_\", pais)\n",
    "  \n",
    "  # Gráfico por temas\n",
    "  g5 <- journal.pais %>%\n",
    "    group_by(Subjects) %>%\n",
    "    count() %>%\n",
    "    filter(n > 5) %>%\n",
    "    mutate(Subjects = reorder(Subjects, n)) %>%\n",
    "    ggplot(aes(x = reorder(Subjects, n), y = n, fill = Subjects)) +\n",
    "    geom_col() +\n",
    "    theme_minimal() +\n",
    "    theme(legend.position = \"none\") +\n",
    "    ylab(\"Temas\") +\n",
    "    xlab(NULL) +\n",
    "    ggtitle(paste(\"Temas de publicación de revistas en\", pais)) +\n",
    "    coord_flip() +\n",
    "    labs(caption = \"Citar como: Romina De León, 2025. Análisis de revistas latinoamericanas en DOAJ.\")\n",
    "  print(g5)\n",
    "  guardar_grafico(g5, \"temas_\", pais)\n",
    "  \n",
    "  # Gráfico por temas\n",
    "  g6 <- journal.pais %>%\n",
    "    group_by(id) %>%\n",
    "    count() %>%\n",
    "    filter(n > 5) %>%\n",
    "    mutate(id = reorder(id, n)) %>%\n",
    "    ggplot(aes(x = id, y = n, fill = id)) +\n",
    "    geom_col() +\n",
    "    theme_minimal() +\n",
    "    theme(legend.position = \"none\") +\n",
    "    ylab(\"Identificadores persistentes\") +\n",
    "    xlab(NULL) +\n",
    "    ggtitle(paste(\"Identificadores persistentes de revistas en\", pais)) +\n",
    "    coord_flip() +\n",
    "    labs(caption = \"Citar como: Romina De León, 2025. Análisis de revistas latinoamericanas en DOAJ.\")\n",
    "  print(g5)\n",
    "  guardar_grafico(g6, \"identificadores_\", pais)\n",
    "}\n",
    "\n"
   ]
  },
  {
   "cell_type": "code",
   "execution_count": null,
   "id": "91240eee",
   "metadata": {
    "vscode": {
     "languageId": "r"
    }
   },
   "outputs": [],
   "source": [
    "walk(selected_countries, analizar_pais)\n",
    " \n",
    "selected_countries\n",
    "analizar_pais(\"Argentina\")\n",
    "analizar_pais(\"Brazil\")\n",
    "analizar_pais(\"Chile\")\n",
    "analizar_pais(\"Colombia\")\n",
    "analizar_pais(\"Mexico\")\n",
    "analizar_pais(\"Ecuador\")\n",
    "analizar_pais(\"Costa Rica\")\n",
    "analizar_pais(\"Bolivia, Plurinational State of\")\n",
    "analizar_pais(\"Dominican Republic\")\n",
    "analizar_pais(\"El Salvador\")\n",
    "analizar_pais(\"Guatemala\")\n",
    "analizar_pais(\"Honduras\")\n",
    "analizar_pais(\"Nicaragua\")\n",
    "analizar_pais(\"Panama\") \n",
    "analizar_pais(\"Paraguay\")\n",
    "analizar_pais(\"Peru\")\n",
    "analizar_pais(\"Uruguay\")\n",
    "analizar_pais(\"Venezuela, Bolivarian Republic of\")\n",
    "\n",
    "\n",
    "\n",
    "##################################################################\n"
   ]
  }
 ],
 "metadata": {
  "kernelspec": {
   "display_name": "R",
   "language": "R",
   "name": "ir"
  },
  "language_info": {
   "codemirror_mode": "r",
   "file_extension": ".r",
   "mimetype": "text/x-r-source",
   "name": "R",
   "pygments_lexer": "r",
   "version": "4.1.3"
  }
 },
 "nbformat": 4,
 "nbformat_minor": 5
}
