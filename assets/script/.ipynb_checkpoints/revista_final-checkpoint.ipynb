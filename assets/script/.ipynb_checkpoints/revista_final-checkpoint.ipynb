{
 "cells": [
  {
   "cell_type": "code",
   "execution_count": null,
   "id": "129fecf4",
   "metadata": {},
   "outputs": [],
   "source": [
    "#- almacenamos en el objeto \"path_wd\" la ruta de mi directorio de trabajo\n",
    "rm(list = ls())"
   ]
  },
  {
   "cell_type": "code",
   "execution_count": null,
   "id": "169e9459",
   "metadata": {},
   "outputs": [],
   "source": [
    "getwd()"
   ]
  },
  {
   "cell_type": "code",
   "execution_count": null,
   "id": "889382f9",
   "metadata": {},
   "outputs": [],
   "source": [
    "path_wd <- getwd()\n",
    "#"
   ]
  },
  {
   "cell_type": "code",
   "execution_count": null,
   "id": "1dcbfed2",
   "metadata": {},
   "outputs": [],
   "source": [
    "setwd(path_wd)\n",
    "packages <- c(\"tidytext\", \"gapminder\", \"tidyverse\", \"dplyr\", \"ggplot2\")\n",
    "install.packages(packages, INSTALL_opts = '--no-lock') #si tira error de /00LOCK \n",
    "#lo eliminé C:\\Users\\RominaSoledadDeLeon\\AppData\\Local\\R\\win-library desde esa carpeta busque folder /00LOCK \n",
    "install.packages(\"treemapify\", dependencies = TRUE, INSTALL_opts = '--no-lock')\n",
    "install.packages('magritter')\n",
    "install.packages(\"ggplot2\")\n",
    "install.packages('rio')\n",
    "install.packages('xlsx')\n",
    "library(treemapify)\n",
    "library(tidyverse)\n",
    "library(tidytext)\n",
    "library(dplyr)\n",
    "library(ggplot2)\n",
    "library(gapminder)\n",
    "library(magrittr) #algunos los vuelvo a llamar por error al correr el script\n",
    "library(tidyselect)\n",
    "library(readr)\n",
    "library(rio)\n",
    "library(xlsx)"
   ]
  },
  {
   "cell_type": "code",
   "execution_count": null,
   "id": "b0a04ed4",
   "metadata": {},
   "outputs": [],
   "source": [
    "#creamos un data.frame con la base de datos: mis_datos\n",
    "#Gimena quiere que se haga una jupyter para levantar en vivo y generar los gráficos\n",
    "journal <- read.csv(\"journalcsv__doaj_20230323_1236_utf8.csv\")"
   ]
  },
  {
   "cell_type": "code",
   "execution_count": null,
   "id": "bc37344b",
   "metadata": {},
   "outputs": [],
   "source": [
    "as_tibble(journal)\n",
    "#nueva tabla con datos de interes "
   ]
  },
  {
   "cell_type": "code",
   "execution_count": null,
   "id": "762c66c4",
   "metadata": {},
   "outputs": [],
   "source": []
  },
  {
   "cell_type": "code",
   "execution_count": null,
   "id": "af19e3dc",
   "metadata": {
    "lines_to_next_cell": 2
   },
   "outputs": [],
   "source": [
    "journal.select <- journal%>% select(Journal.title, Country.of.publisher, Languages.in.which.the.journal.accepts.manuscripts, Journal.license, Publisher, Review.process, Subjects)"
   ]
  },
  {
   "cell_type": "code",
   "execution_count": null,
   "id": "a0effff8",
   "metadata": {},
   "outputs": [],
   "source": [
    "journal.select <- journal.select %>%\n",
    "  rename(title = Journal.title) %>%\n",
    "  rename(country = Country.of.publisher) %>%\n",
    "  rename(language = Languages.in.which.the.journal.accepts.manuscripts) %>%\n",
    "  rename (license = Journal.license) %>%\n",
    "  rename (Review = Review.process)"
   ]
  },
  {
   "cell_type": "code",
   "execution_count": null,
   "id": "166a4442",
   "metadata": {},
   "outputs": [],
   "source": [
    "journal.select %>%\n",
    "  group_by(country)%>%\n",
    "  count()%>%\n",
    "  ungroup()%>%\n",
    "  mutate(percentage= n /sum(n)*100)"
   ]
  },
  {
   "cell_type": "code",
   "execution_count": null,
   "id": "41593c3a",
   "metadata": {},
   "outputs": [],
   "source": [
    "total.journal <- length(journal.select$title)\n",
    "total.journal"
   ]
  },
  {
   "cell_type": "code",
   "execution_count": null,
   "id": "5317a57b",
   "metadata": {},
   "outputs": [],
   "source": [
    "class(journal.select)\n",
    "##COLOMBIA\n",
    "journal.pais <- journal.select %>% filter(country == \"Colombia\")"
   ]
  },
  {
   "cell_type": "code",
   "execution_count": null,
   "id": "ff606b8b",
   "metadata": {},
   "outputs": [],
   "source": [
    "total.pais <- length(journal.pais$title)\n",
    "total.pais\n",
    "#total <- c(\"Total de pa?ses\", total.journal)\n",
    "#pais <- c(\"Colombia\", total.pais)\n",
    "#porc.pais <- data.frame(total, pais)\n",
    "#pie(porc.pais, labels = porc.pais)"
   ]
  },
  {
   "cell_type": "markdown",
   "id": "260da9fb",
   "metadata": {
    "lines_to_next_cell": 2
   },
   "source": [
    "journal.pais ver de unificar idiomas que tengan distinto orden y juntar las ciencias sociales "
   ]
  },
  {
   "cell_type": "code",
   "execution_count": null,
   "id": "ffaa960b",
   "metadata": {
    "lines_to_next_cell": 2
   },
   "outputs": [],
   "source": [
    "journal.pais %>%\n",
    "  group_by(language)%>%\n",
    "  count()%>%\n",
    "  filter(n>5)%>%\n",
    "  mutate(language = reorder(language, n)) %>%\n",
    "  ggplot(aes(x = language, y = n, fill = language)) +\n",
    "  geom_col () + # si agrego , fill = \"blue\" cambio color\n",
    "  theme_minimal() +\n",
    "  theme(legend.position = \"n\") +\n",
    "  ylab(\"Número de veces que aparecen\") +\n",
    "  xlab(NULL) +\n",
    "  ggtitle(\"Idiomas de publicación de revistas en Colombia\") +\n",
    "  coord_flip()"
   ]
  },
  {
   "cell_type": "code",
   "execution_count": null,
   "id": "c8f7f8e7",
   "metadata": {},
   "outputs": [],
   "source": [
    "#unificar idiomas\n",
    "unify_languages <- function(language_string) {\n",
    "  language_list <- strsplit(language_string, \", \")\n",
    "  unified_languages <- sapply(language_list, function(x) paste(sort(unique(x)), collapse = \", \"))\n",
    "  return(unified_languages)\n",
    "}"
   ]
  },
  {
   "cell_type": "code",
   "execution_count": null,
   "id": "2a8cc7dc",
   "metadata": {},
   "outputs": [],
   "source": [
    "# Aplicar la función para crear una nueva columna con los idiomas unificados\n",
    "data <- journal.pais %>%\n",
    "  mutate(language_unique = unify_languages(language))"
   ]
  },
  {
   "cell_type": "code",
   "execution_count": null,
   "id": "5d5f8085",
   "metadata": {},
   "outputs": [],
   "source": [
    "# Contar las combinaciones de idiomas unificadas y filtrar las duplicadas\n",
    "data <- data %>%\n",
    "  group_by(language_unique) %>%\n",
    "  summarise(count = n()) %>%\n",
    "  arrange(desc(count))"
   ]
  },
  {
   "cell_type": "code",
   "execution_count": null,
   "id": "476f9bf6",
   "metadata": {},
   "outputs": [],
   "source": [
    "# Agrupar las combinaciones de idiomas únicas\n",
    "unique_combinations <- data %>%\n",
    "  pull(language_unique) %>%\n",
    "  unique()"
   ]
  },
  {
   "cell_type": "code",
   "execution_count": null,
   "id": "f924e955",
   "metadata": {
    "lines_to_next_cell": 2
   },
   "outputs": [],
   "source": [
    "#grafico\n",
    "ggplot(data, aes(x = count, y = fct_reorder(language_unique, (count)))) +\n",
    "  geom_bar(stat = \"identity\", fill = \"#9933FF\") +\n",
    "  theme_minimal() +\n",
    "  labs(title = \"Idiomas de publicación de revistas en Colombia\", x = \"Número de veces que aparecen\", y = \"Idioma\") +\n",
    "  theme_minimal() +\n",
    "  theme(axis.text.y = element_text(size = 10))"
   ]
  },
  {
   "cell_type": "code",
   "execution_count": null,
   "id": "ea7cf172",
   "metadata": {},
   "outputs": [],
   "source": [
    "#otro gráfico\n",
    "journal.pais %>%\n",
    "  group_by(Publisher)%>%\n",
    "  count()%>%\n",
    "  filter(n>6)%>%\n",
    "  mutate(Publisher = reorder(Publisher, desc(n))) %>%\n",
    "  ggplot(aes(x = Publisher, y = n, fill = Publisher)) + \n",
    "  geom_col () + # si agrego , fill = \"blue\" cambio color\n",
    "  theme_minimal() +\n",
    "  theme(legend.position = \"n\") +\n",
    "  ylab(\"Cantidad de revistas publicadas por\") +\n",
    "  xlab(NULL) +\n",
    "  ggtitle(\"Editorial de publicación de revistas en Colombia\") +\n",
    "  coord_flip()"
   ]
  },
  {
   "cell_type": "code",
   "execution_count": null,
   "id": "c436591d",
   "metadata": {
    "lines_to_next_cell": 2
   },
   "outputs": [],
   "source": [
    "journal.pais %>%\n",
    "  group_by(license)%>%\n",
    "  count()%>%\n",
    "  filter(n>1)%>%\n",
    "  mutate(license = reorder(license, n)) %>%\n",
    "  ggplot(aes(x = license, y = n, fill = license)) +\n",
    "  geom_col () + # si agrego , fill = \"blue\" cambio color\n",
    "  theme_minimal() +\n",
    "  theme(legend.position = \"n\") +\n",
    "  ylab(\"Tipo de licencias\") +\n",
    "  xlab(NULL) +\n",
    "  ggtitle(\"Licencias de publicación de revistas en Colombia\") +\n",
    "  coord_flip()"
   ]
  },
  {
   "cell_type": "code",
   "execution_count": null,
   "id": "5bcb7ff4",
   "metadata": {},
   "outputs": [],
   "source": [
    "journal.pais %>%\n",
    "  group_by(Review)%>%\n",
    "  count()%>%\n",
    "  filter(n>5)%>%\n",
    "  mutate(Review = fct_reorder(Review, n)) %>%\n",
    "  ggplot(aes(x = Review, y = n, fill = Review)) +\n",
    "  geom_col () + # si agrego , fill = \"blue\" cambio color\n",
    "  theme_minimal() +\n",
    "  theme(legend.position = \"n\") +\n",
    "  ylab(\"Proceso de revisión\") +\n",
    "  xlab(NULL) +\n",
    "  ggtitle(\"Proceso de revisión de publicación de revistas en Colombia\") +\n",
    "  coord_flip()"
   ]
  },
  {
   "cell_type": "code",
   "execution_count": null,
   "id": "22858bfe",
   "metadata": {},
   "outputs": [],
   "source": [
    "journal.pais %>% #limpio y restrinjo solo con social science\n",
    "  mutate(Subjects = case_when(\n",
    "    grepl(\"Social Science:\", Subjects) ~ \"Social Science\",\n",
    "    !grepl(\"Social Science:\", Subjects) & grepl(\"Social Science\", Subjects) ~ \"Social Science\",\n",
    "    TRUE ~ Subjects\n",
    "  )) %>%\n",
    "  group_by(Subjects)%>%\n",
    "  count()%>%\n",
    "  filter(n>5)%>%\n",
    "  arrange(desc(n)) %>%\n",
    "  mutate(Subjects = reorder(Subjects, n)) %>%\n",
    "  ggplot(aes(x = Subjects, y = n, fill = Subjects)) +\n",
    "  geom_col () + # si agrego , fill = \"blue\" cambio color\n",
    "  theme_minimal() +\n",
    "  theme(legend.position = \"n\") +\n",
    "  ylab(\"Temas\") +\n",
    "  xlab(NULL) +\n",
    "  ggtitle(\"Temas de publicación de revistas en Colombia\") +\n",
    "  coord_flip()"
   ]
  },
  {
   "cell_type": "markdown",
   "id": "a9b2d8bc",
   "metadata": {},
   "source": [
    "debo agrupar 'Subjects' por social science\n",
    "#ECUADOR"
   ]
  },
  {
   "cell_type": "code",
   "execution_count": null,
   "id": "f6836549",
   "metadata": {},
   "outputs": [],
   "source": [
    "journal.pais.ec <- journal.select %>% filter(country == \"Ecuador\")"
   ]
  },
  {
   "cell_type": "code",
   "execution_count": null,
   "id": "bd0d420c",
   "metadata": {},
   "outputs": [],
   "source": [
    "total.pais <- length(journal.pais.ec$title)\n",
    "total.pais\n",
    "#total <- c(\"Total de pa?ses\", total.journal)\n",
    "#pais <- c(\"Ecuador\", total.pais)\n",
    "#porc.pais <- data.frame(total, pais)\n",
    "#pie(porc.pais, labels = porc.pais)"
   ]
  },
  {
   "cell_type": "markdown",
   "id": "611efd76",
   "metadata": {
    "lines_to_next_cell": 2
   },
   "source": [
    "journal.pais.ec ver de unificar idiomas que tengan distinto orden y juntar las ciencias sociales "
   ]
  },
  {
   "cell_type": "code",
   "execution_count": null,
   "id": "f18fe45c",
   "metadata": {},
   "outputs": [],
   "source": [
    "journal.pais.ec %>%\n",
    "  group_by(language)%>%\n",
    "  count()%>%\n",
    "  filter(n>1)%>%\n",
    "  mutate(language = reorder(language, n)) %>%\n",
    "  ggplot(aes(x = language, y = n, fill = language)) +\n",
    "  geom_col () + # si agrego , fill = \"blue\" cambio color\n",
    "  theme_minimal() +\n",
    "  theme(legend.position = \"n\") +\n",
    "  ylab(\"Número de veces que aparecen\") +\n",
    "  xlab(NULL) +\n",
    "  ggtitle(\"Idiomas de publicación de revistas en Ecuador\") +\n",
    "  coord_flip()"
   ]
  },
  {
   "cell_type": "code",
   "execution_count": null,
   "id": "96d6ae5c",
   "metadata": {},
   "outputs": [],
   "source": [
    "#unificar idiomas\n",
    "unify_languages <- function(language_string) {\n",
    "  language_list <- strsplit(language_string, \", \")\n",
    "  unified_languages <- sapply(language_list, function(x) paste(sort(unique(x)), collapse = \", \"))\n",
    "  return(unified_languages)\n",
    "}"
   ]
  },
  {
   "cell_type": "code",
   "execution_count": null,
   "id": "72fb3ec6",
   "metadata": {},
   "outputs": [],
   "source": [
    "# Aplicar la función para crear una nueva columna con los idiomas unificados\n",
    "data.ec <- journal.pais.ec %>%\n",
    "  mutate(language_unique = unify_languages(language))"
   ]
  },
  {
   "cell_type": "code",
   "execution_count": null,
   "id": "b1cdaf4c",
   "metadata": {},
   "outputs": [],
   "source": [
    "# Contar las combinaciones de idiomas unificadas y filtrar las duplicadas\n",
    "data.ec <- data.ec %>%\n",
    "  group_by(language_unique) %>%\n",
    "  summarise(count = n()) %>%\n",
    "  arrange(desc(count))"
   ]
  },
  {
   "cell_type": "code",
   "execution_count": null,
   "id": "e7db1233",
   "metadata": {},
   "outputs": [],
   "source": [
    "# Agrupar las combinaciones de idiomas únicas\n",
    "unique_combinations <- data.ec %>%\n",
    "  pull(language_unique) %>%\n",
    "  unique()"
   ]
  },
  {
   "cell_type": "code",
   "execution_count": null,
   "id": "67780240",
   "metadata": {},
   "outputs": [],
   "source": [
    "#grafico\n",
    "ggplot(data.ec, aes(x = count, y = fct_reorder(language_unique, (count)))) +\n",
    "  geom_bar(stat = \"identity\", fill = \"#750275\") +\n",
    "  theme_minimal() +\n",
    "  labs(title = \"Idiomas de publicación de revistas en Ecuador\", x = \"Número de veces que aparecen\", y = \"Idioma\") +\n",
    "  theme_minimal() +\n",
    "  theme(axis.text.y = element_text(size = 10))"
   ]
  },
  {
   "cell_type": "code",
   "execution_count": null,
   "id": "b3715446",
   "metadata": {},
   "outputs": [],
   "source": [
    "#otro gráfico\n",
    "journal.pais.ec %>%\n",
    "  group_by(Publisher) %>%\n",
    "  count() %>%\n",
    "  filter(n > 1) %>%\n",
    "  arrange(n) %>%\n",
    "  mutate(Publisher = factor(Publisher, levels = unique(Publisher))) %>%\n",
    "  ggplot(aes(x = reorder(Publisher, n), y = n, fill = Publisher)) +\n",
    "  geom_col() +\n",
    "  scale_fill_viridis_d(option = \"plasma\", begin = 0.2, end = 0.8)+\n",
    "  theme_minimal() +\n",
    "  theme(legend.position = \"none\") +\n",
    "  ylab(\"Cantidad de revistas publicadas por\") +\n",
    "  xlab(NULL) +\n",
    "  ggtitle(\"Editorial de publicación de revistas en Ecuador\") +\n",
    "  coord_flip()"
   ]
  },
  {
   "cell_type": "code",
   "execution_count": null,
   "id": "147e1f62",
   "metadata": {
    "lines_to_next_cell": 2
   },
   "outputs": [],
   "source": [
    "journal.pais.ec %>%\n",
    "  group_by(license) %>%\n",
    "  count() %>%\n",
    "  filter(n > 1) %>%\n",
    "  mutate(license = fct_reorder(license, n, .desc = TRUE)) %>%\n",
    "  ggplot(aes(x = license, y = n, fill = license)) +\n",
    "  geom_col() +\n",
    "  scale_fill_viridis_d(option = \"plasma\", begin = 0.2, end = 0.8) +\n",
    "  theme_minimal() +\n",
    "  theme(legend.position = \"none\") +\n",
    "  ylab(\"Cantidad de revistas publicadas por\") +\n",
    "  xlab(NULL) +\n",
    "  ggtitle(\"Licencias de publicación de revistas en Ecuador\") +\n",
    "  coord_flip()"
   ]
  },
  {
   "cell_type": "code",
   "execution_count": null,
   "id": "aafc221f",
   "metadata": {},
   "outputs": [],
   "source": [
    "journal.pais.ec %>%\n",
    "  group_by(Review)%>%\n",
    "  count()%>%\n",
    "  filter(n > 1) %>%\n",
    "  arrange(n) %>%\n",
    "  mutate(Review = fct_reorder(Review, n)) %>%\n",
    "  ggplot(aes(x = Review, y = n, fill = Review)) +\n",
    "  geom_col () + # si agrego , fill = \"blue\" cambio color\n",
    "  scale_fill_viridis_d(option = \"plasma\", begin = 0.2, end = 0.8) +\n",
    "  theme_minimal() +\n",
    "  theme(legend.position = \"n\") +\n",
    "  ylab(\"Proceso de revisión\") +\n",
    "  xlab(NULL) +\n",
    "  ggtitle(\"Proceso de revisión de publicación de revistas en Ecuador\") +\n",
    "  coord_flip()"
   ]
  },
  {
   "cell_type": "code",
   "execution_count": null,
   "id": "da6ac293",
   "metadata": {},
   "outputs": [],
   "source": [
    "journal.pais.ec %>% #limpio y restrinjo solo con social science\n",
    "  mutate(Subjects = case_when(\n",
    "   grepl(\"Social Science:\", Subjects) ~ \"Social Science\",\n",
    "    !grepl(\"Social Science:\", Subjects) & grepl(\"Social Science\", Subjects) ~ \"Social Science\",\n",
    "    TRUE ~ Subjects\n",
    "  )) %>%\n",
    "  group_by(Subjects)%>%\n",
    "  count()%>%\n",
    "  filter(n>1)%>%\n",
    "  arrange(desc(n)) %>%\n",
    "  mutate(Subjects = reorder(Subjects, n)) %>%\n",
    "  ggplot(aes(x = Subjects, y = n, fill = Subjects)) +\n",
    "  geom_col () + # si agrego , fill = \"blue\" cambio color\n",
    "  scale_fill_viridis_d(option = \"plasma\", begin = 0.2, end = 0.8) +\n",
    "  theme_minimal() +\n",
    "  theme(legend.position = \"n\") +\n",
    "  ylab(\"Temas\") +\n",
    "  xlab(NULL) +\n",
    "  ggtitle(\"Temas de publicación de revistas en Ecuador\") +\n",
    "  coord_flip()"
   ]
  },
  {
   "cell_type": "markdown",
   "id": "f36f5d22",
   "metadata": {},
   "source": [
    "quiero agregar una fila con el total de revistas \n",
    "df = cbind('total', n=total.journal, 100)\n",
    "porcentaje.pais <- nrow(df, porcentaje) \n",
    "https://vivaelsoftwarelibre.com/matrices-en-r-que-son-y-como-trabajar-con-ellas/\n",
    "https://estadistica-dma.ulpgc.es/cursoR4ULPGC/9a-graf-Intro.html\n",
    "https://datacarpentry.org/python-ecology-lesson-es/05-merging-data/\n",
    "paises por continente https://rstudio-pubs-static.s3.amazonaws.com/779244_6f8c8742b793408e9ea6ed82dd283425.html"
   ]
  },
  {
   "cell_type": "markdown",
   "id": "2e7585b6",
   "metadata": {},
   "source": [
    "class(porcentaje)"
   ]
  },
  {
   "cell_type": "markdown",
   "id": "4551c12e",
   "metadata": {},
   "source": [
    "journal.select %>%\n",
    "Filter countries that start with \"A\" or \"Z\"\n",
    "filter(substr(country, start = 1, stop = 3) %in% c(\"Col\")) %>%"
   ]
  },
  {
   "cell_type": "code",
   "execution_count": null,
   "id": "4d8ab3bf",
   "metadata": {},
   "outputs": [],
   "source": []
  },
  {
   "cell_type": "markdown",
   "id": "7b0db44c",
   "metadata": {},
   "source": [
    "journal.pais %>%\n",
    "filter( )\n",
    "journal.pais_sp <- journal.pais %>% filter(languages == \"English\")"
   ]
  },
  {
   "cell_type": "markdown",
   "id": "12d50119",
   "metadata": {},
   "source": [
    "journal.pais.idioma <- journal.pais %>% \n",
    "separate(language, c(\"id1\", \"id2\", \"id3\", \"id4\", \"id5\"), sep=\",\",  extra = \"merge\")"
   ]
  },
  {
   "cell_type": "markdown",
   "id": "a9672b94",
   "metadata": {},
   "source": [
    "ggplot(data = journal.pais.idioma) +\n",
    "geom_point(mapping = aes(x = journal.pais$languages))"
   ]
  },
  {
   "cell_type": "markdown",
   "id": "ed5c129a",
   "metadata": {},
   "source": [
    "journal-pais <- highlight_key(journal.pais, ~country.of.publisher, \"Select a country\")\n",
    "ggplotly(p, tooltip = \"Colombia\") %>%\n",
    "+   layout(title = \"Click on a line to highlight a year\") %>%\n",
    " +   highlight(dynamic = TRUE, selectize = TRUE)"
   ]
  }
 ],
 "metadata": {
  "jupytext": {
   "cell_metadata_filter": "-all",
   "main_language": "R",
   "notebook_metadata_filter": "-all"
  }
 },
 "nbformat": 4,
 "nbformat_minor": 5
}
