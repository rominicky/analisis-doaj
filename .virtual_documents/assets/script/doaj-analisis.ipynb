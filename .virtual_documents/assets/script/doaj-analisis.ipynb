








# Lista de librerías necesarias, se instalan y cargan
librerias <- c(
  "tidyverse", "RColorBrewer", "paletteer", "datos", "gapminder", "tradestatistics", "highcharter",
  "treemapify", "ggplot2", "rio", "echarts4r", "plotly", "tidytext", "dplyr", "tidyselect",
  "purrr", "readr", "stringr", "webshot", "htmlwidgets", "pandoc", "forcats",
"cowplot", "ggrepel", "sf", "rnaturalearth", "countrycode", "scico", "Cairo",
"colorspace", "Polychrome", "MetBrewer", "ggsci", "zoo"
)
# Instalación
librerias_faltantes <- librerias[!librerias %in% installed.packages()[, "Package"]]
if(length(librerias_faltantes) > 0){
  message("Instalando librerias faltantes: ", paste(librerias_faltantes, collapse = ", "))
  install.packages(librerias_faltantes, dependencies = TRUE, INSTALL_opts = '--no-lock')
}

# Función para cargar un librerias y notificar errores
cargar_paquete <- function(pkg){
  tryCatch({
    library(pkg, character.only = TRUE)
    message("Cargado correctamente: ", pkg)
  }, error = function(e){
    warning("No se pudo cargar: ", pkg, "\n", e)
  })
}

# Cargar todos los librerias
invisible(lapply(librerias, cargar_paquete))



# URL oficial de DOAJ
url_doaj <- "https://doaj.org/csv"
# Descargar del CSV
temp <- tempfile(fileext = ".csv")
download.file(url_doaj, destfile = temp, method = "libcurl")

# Lectura de la BBDD
journal_csv <- read.csv(temp, stringsAsFactors = FALSE)

# transformación en tibble
journal <- as_tibble(journal)
head(journal)





head(journal[, c("Journal.title", "Subjects", "Keywords")], 15)


print(paste("Total de publicaciones en la base de datos de DOAJ:", length(journal$Journal.title)))





colnames(journal)





journal.select <- journal%>% select(Journal.title, Country.of.publisher, Languages.in.which.the.journal.accepts.manuscripts, Journal.license, Publisher, Review.process, Subjects, APC, Persistent.article.identifiers, Keywords, Added.on.Date)





journal.select <- journal.select %>%
  rename(title = Journal.title) %>%
  rename(country = Country.of.publisher) %>%
  rename(language = Languages.in.which.the.journal.accepts.manuscripts) %>%
  rename (license = Journal.license) %>%
  rename (Review = Review.process) %>%
  rename (Ids = Persistent.article.identifiers) %>%
  rename (Added = Added.on.Date)





journal.select$Added <- as.Date(journal.select$Added) 





journal.select$Subjects <- str_extract(journal.select$Subjects, "\\w+(?:[^\\w]+\\w+){0,1}")


#eliminación signos de puntuación
journal.select$Subjects <- gsub("[[:punct:]]", "", journal.select$Subjects)


journal.select <- journal.select %>%
  mutate(Subjects = str_trim(Subjects)) %>%
  mutate(Subjects = sapply(Subjects, function(x) {
    words <- str_split(x, "\\s{2,}|,|\\s*\\band\\b\\s*|\\s+")[[1]]  # dividir por palabras, "and", comas, o espacios
    words <- unique(words[words != ""])  # eliminar vacíos y duplicados
    paste(words, collapse = " ")
  }))





# Crear una función para ordenar los idiomas en una lista
sort_languages <- function(language_list) {
  sorted_languages <- sort(unlist(strsplit(language_list, ", ")))
  return(paste(sorted_languages, collapse = ", "))
}


# Aplicar la función a cada celda en la columna 'language'
journal.select$language <- sapply(journal.select$language, sort_languages)





# Crear una función para ordenar los ids
sort_ids <- function(ids_list) {
  sorted_ids <- sort(unlist(strsplit(ids_list, ", ")))
  return(paste(sorted_ids, collapse = ", "))
}


# Aplicar la función a cada celda en la columna 'ids'
journal.select$Ids <- sapply(journal.select$Ids, sort_ids)





# Función caption
#an_actual <- format(Sys.Date(), "%Y")
add_caption <- function(author = "Romina De León y Gimena del Rio", year = format(Sys.Date(), "%Y")) {
  paste0("Citar como: ", author, ", ", year, 
         ". Análisis de revistas latinoamericanas en DOAJ.")
}

#Función para guardar gráficos
save_graf <- function(plot, filename = NULL, type = "default", dpi = 300) {
  # Nombre de archivo, según el title del gráfico
  if (is.null(filename)) {
    if (!is.null(plot$labels$title)) {
      filename <- gsub("[^[:alnum:]_]+", "_", plot$labels$title)
    } else {
      filename <- paste0("grafico_", format(Sys.time(), "%Y%m%d_%H%M%S"))
    }
  }
  
  # Para ggplot
  if (inherits(plot, "ggplot")) {
    dims <- switch(
      type,
      "map" = list(width = 3000, height = 2000),
      "bar" = list(width = 2500, height = 2000),
      "line" = list(width = 3000, height = 1500),
      "scatter" = list(width = 2000, height = 2000),
      "heatmap" = list(width = 2500, height = 2500),
      "default" = list(width = 2000, height = 1500)
    )
    ggsave(paste0(filename, ".png"), plot = plot,
           width = dims$width, height = dims$height,
           units = "px", dpi = dpi)
  }
  
  # Para gráficos interactivos 
  else if (inherits(plot, "htmlwidget")) {
    htmlwidgets::saveWidget(plot, paste0(filename, ".html"), selfcontained = TRUE)
    # opcional: webshot2::webshot(paste0(filename, ".html"), file = paste0(filename, ".png"))
  }
  
  message("Gráfico guardado en: ", filename)
}

# para gráficos 
options(repr.plot.width = 12, repr.plot.height = 8)





porcen_journal <- journal.select %>%
  group_by(country)%>%
  count()%>%
  ungroup()%>%
  mutate(percentage= round(n / sum(n) * 100, 2)) %>%
  bind_rows(data.frame(country = "Total", n = NA, percentage = sum(.$percentage)))
porcen_journal[order(porcen_journal$n, decreasing = TRUE),] 








options(repr.plot.width = 12, repr.plot.height = 8)


p1 <- suppressWarnings(
ne_countries(scale = "large", returnclass = "sf") %>% 
left_join(
    porcen_journal %>%
    filter(!country %in% c("Total")) %>%
      mutate(
             country = trimws(country),
             country_std = case_when(
                country %in% c("United States", "USA") ~ "United States of America",
                TRUE ~ countrycode(country, origin = "country.name", destination = "country.name")
                ),
             country_std = coalesce(country_std, country),
             color_point = case_when( n <= 20 ~ "#91A1AF",
                                      n <= 50 ~ "#21BCFF",
                                      n <= 100 ~ "#F5276C",
                                      n <= 200 ~ "#2C0995",
                                      n <= 300 ~ "#27F5B0",
                                      n <= 450 ~ "#009E3F",
                                      n <= 600 ~ "#2e86c1",
                                      n <= 800 ~ "#1b4f72",
                                      n <= 1000 ~ "#884ea0",
                                      n <= 1250 ~ "#a569bd",
                                      n <= 1500 ~ "#af7ac5",
                                      n <= 1750 ~ "#d98880",
                                      n <= 2500 ~ "#8965F6",
                                      n <= 3500 ~"729509",
                                      TRUE ~ "darkblue"
    )
      ),
    by = c("name" = "country_std")
  ) %>% 
  filter(!is.na(geometry)) %>%
  mutate(point_geom = st_point_on_surface(geometry)) %>%
  ggplot() +
  geom_sf(fill = "gray90") +
  geom_point(
    aes(
      geometry = point_geom, 
      size = n,
     color = color_point
    ),
    stat = "sf_coordinates",
    alpha = 0.7
  ) +
  scale_size_continuous(range = c(2, 10)) +
  scale_color_identity() +
  labs(
    title = "Distribución de revistas por país",
      x = NULL,
      y = NULL,
    caption = add_caption()
  ) +
  theme_minimal() +
  theme(legend.position = "none"))
p1
save_graf(p1, type = "map")





p2 <- journal.select %>%
  mutate( year_month = floor_date(Added, "year")) %>%
  count(year_month) %>%
  ggplot(aes(x = year_month, y = n)) +
  geom_line(color = "#2c0fb1", size = 0.6) +
  geom_point(color = "#f93b20", size = 1) +
  theme_bw(base_size = 12) +
  scale_x_date(date_labels = "%Y", date_breaks = "2 year") +
  labs(x = "Trimestres del año", y = "Cantidad de incorporaciones", 
       title = "Línea de tiempo sobre incorporación de publicaciones a DOAJ", caption = add_caption()) +
  theme(axis.text.x = element_text(angle = 45, hjust = 1),
       axis.text.y = element_text(hjust = 1)
       )
p2
save_graf(p2, type = "line")





# tamaño específico para el heatmap ()
options(repr.plot.width = 10, repr.plot.height = 14)
p3 <- journal.select %>%
  mutate( year = floor_date(Added, "year")
  ) %>%
  count(country, year) %>% 
  group_by(country) %>%
  filter(sum(n) >= 100) %>%  
  ungroup() %>% 
  ggplot(aes(x = year, y = country, fill = n)) +
  geom_tile(color = "white") +
  scale_fill_viridis_c(option = "C") +
  labs(
    x = "Año de incorporación a DOAJ",
    y = "País",
    title = "Registro de incorporación de publicaciones por país y año",
    fill = "Cantidad",
    caption = add_caption()
  ) +
  theme_classic(base_size = 12) +
  theme(
    axis.text.x = element_text(angle = 45, hjust = 1),
    legend.position = "right" )

p3
save_graf(p3, type = "heatmap")





options(repr.plot.width = 12, repr.plot.height = 8)


p4 <- journal.select %>%
  group_by(language) %>%
  count() %>%
  filter(n >= 25 & n <= 800 ) %>%
  mutate(language = as.character(fct_reorder(language, n))) %>%  
  plot_ly(
    x = ~n,
    y = ~language,
    type = "bar",
    orientation = "h",
    color = ~n,
    colors = viridisLite::viridis(100, option = "D")
  ) %>%
  layout(
    title = list(
      text = "Idiomas de publicación de revistas en todo el mundo",
      x = 0.5,  
      xanchor = "center"
    ),
    xaxis = list(title = "Cantidad de revistas"),
    yaxis = list(title = "Idiomas"),
    margin = list(l = 50, t = 50), 
    annotations = list(
      list(
        x = 0, y = -0.05, 
        text = add_caption(),  
        xref = "paper", yref = "paper",
        showarrow = FALSE,
        xanchor = "left",
        yanchor = "top",
        font = list(size = 10)
      )
    )
  )

p4

saveWidget(p4, file = "idiomas_pub_DOAJ_men800.html", selfcontained = FALSE)


p5 <- journal.select %>%
  group_by(language) %>%
  count() %>%
  filter(n >= 800 ) %>%
  mutate(language = as.character(fct_reorder(language, n))) %>%  
  plot_ly(
    x = ~n,
    y = ~fct_reorder(language, n),
    type = "bar",
      orientation = "h",
      marker = list(color = c("#440154", "#11688e", "#92b779", "#27F5DA", "#F5276C"))) %>%
  layout(
    title = list(
      text = "Idiomas de publicación de revistas en todo el mundo",
      x = 0.5,  
      xanchor = "center"
    ),
    xaxis = list(title = "Cantidad de revistas"),
    yaxis = list(title = "Idiomas"),
    margin = list(l = 50, t = 50), 
    annotations = list(
      list(
        x = 0, y = -0.05, 
        text = add_caption(),  
        xref = "paper", yref = "paper",
        showarrow = FALSE,
        xanchor = "left",
        yanchor = "top",
        font = list(size = 10)
      )
    )
  )
p5

saveWidget(p5, file = "idiomas_pub_DOAJ_may800.html", selfcontained = FALSE)





p6 <- journal.select %>%
  group_by(country, language) %>%
  count() %>%
  ungroup() %>%
  filter(n >= 150 & n <= 3000) %>%
  mutate(language = fct_reorder(language, n)) %>%
  plot_ly(x = ~country, y = ~language, z = ~n,
        type = "heatmap", colors = viridisLite::viridis(100, option = "C"), 
        hovertemplate = paste(
      "País: %{y}<br>",
      "Idioma: %{x}<br>",
      "Publicaciones: %{z}<extra></extra>")
    ) %>%
  layout(title = list(
      text = "Publicaciones con discriminación de idiomas según países",
      x = 0.5,  
      xanchor = "center"
    ),
    xaxis = list(tickangle = -45, tickfont = list(size = 8)),
    yaxis = list(tickangle = -25, tickfont = list(size = 8)),
    margin = list(l = 100, r = 20, t = 50, b = 50), 
    annotations = list(
      list(
        x = 0.35, y = -0.39, 
        xref = "paper", yref = "paper",
        showarrow = FALSE,
        xanchor = "left",
        yanchor = "top",
        font = list(size = 8),
        text = add_caption()
      )
    )
  )

p6
saveWidget(p6, file = "paises_idiomas_pub.html", selfcontained = FALSE)








# Filtrar los países de América Latina
selected_countries <- c("Brazil", "Argentina", "Mexico", "Colombia", "Ecuador", "Costa Rica", "Bolivia, Plurinational State of", "Dominican Republic", "El Salvador", "Guatemala", "	
Honduras", "Nicaragua", "Panama", "Chile", "Paraguay", "Peru", "Uruguay", "Venezuela, Bolivarian Republic of")
filtered_data <- porcen_journal %>% filter(country %in% selected_countries)
head(filtered_data)



journal.amlat <- journal.select[journal.select$country %in% selected_countries, ]

print(paste("Total de publicaciones en América Latina:", length(journal.amlat$title)))


head(journal.amlat)





#américa latina
p8 <- hchart(
  filtered_data,
  type = "pie",
  hcaes(x = country, y = percentage), 
  dataLabels = list(enabled = TRUE),  
  showInLegend = FALSE
) %>%
  hc_title(text = paste0(
    "<b>Porcentaje de las </b>",
    sum(filtered_data$n),
    "<b> publicaciones en América Latina</b>"
  )) %>%
  hc_subtitle(text = paste0("<i>Respecto a las ", length(journal.select$title) ," publicaciones de todo el mundo</i>")) %>%
  hc_exporting(
    enabled = TRUE, 
    filename = "paises_total"
  ) %>%
  hc_plotOptions(
    pie = list(
      allowPointSelect = TRUE,
      cursor = "pointer"
    )
  ) %>%
  hc_legend(
    enabled = FALSE, 
    layout = "horizontal",
    align = "center",
    verticalAlign = "bottom",
    y = 8
  )%>%
  hc_credits(
    enabled = TRUE,
  text = add_caption(),
  href = "https://github.com/rominicky/analisis-doaj",
  itemStyle = list(fontSize = "8px", fontWeight = "normal"),
  position = list(align = "left", x = 10, y = -5)
)
saveWidget(p8, file = "porcentaje_paises_amlat.html", 
           selfcontained = FALSE)
p8


print(journal.amlat$Subjects)






social_sc <- c("Philosophy Psychology", "Geography Anthropology", "Education Theory", "Language and", "Political science", "History", "Education History", "Education Social", "History General", "History America", "Language", "Philosophy", "Bibliography Library", "Auxiliary sciences", "Education Special", "Education", "Social Sciences")





options(repr.plot.width = 12, repr.plot.height = 8)


p9 <- journal.amlat %>%
  mutate( year_month = floor_date(Added, "quarter")) %>%
  count(year_month) %>%
  ggplot(aes(x = year_month, y = n)) +
  geom_line(color = "#2c0fb1", size = 0.6) +
  geom_point(color = "#f93b20", size = 1) +
  theme_bw(base_size = 12) +
  scale_x_date(date_labels = "%Y", date_breaks = "1 year") +
  labs(x = "Trimestres del año", y = "Cantidad de incorporaciones", 
       title = "Línea de tiempo sobre incorporación de publicaciones de América Latina a DOAJ", caption = add_caption()) +
  theme(axis.text.x = element_text(angle = 45, hjust = 1),
       axis.text.y = element_text(hjust = 1)
       )
p9
save_graf(p9, type = "line")





p10 <- journal.amlat %>%
  filter(Subjects == "Social Sciences") %>%  
  group_by(language) %>%
  count() %>%
  filter(n >= 5) %>%
  mutate(language = reorder(language, n)) %>%
  ggplot(aes(x = reorder(language, n), y = n, fill = language)) +
  geom_col() +
  theme_bw() +
  theme(legend.position = "none") + 
  scale_fill_viridis_d(option = "A") +
  labs(y = "Cantidad de publicaciones", x = "",
       title = "Revista de 'Social Science' según idiomas de publicación de América Latina",
       caption = add_caption()) +
       theme(plot.title = element_text(hjust = 1, size = 14, face = "bold"),
       axis.text.x = element_text(hjust = 1, size = 12),
       axis.text.y = element_text(hjust = 1, size = 12)
       ) + coord_flip()
p10
save_graf(p10, type = "bar")



p11 <- journal.amlat %>%
  filter(Subjects %in% social_sc) %>%
  group_by(language) %>%
  count() %>%
  filter(n >= 10) %>%
  mutate(language = reorder(language, n)) %>%
  ggplot(aes(x = reorder(language, n), y = n, fill = language)) +
  geom_col() +
  theme_bw() +
  theme(legend.position = "none") + 
  scale_fill_viridis_d(option = "A") +
  labs(y = "Cantidad de publicaciones", x= "", 
       title = "Revista de Cs. Sociales y Humanidades según idiomas de publicación de América Latina",
       caption = add_caption()) +
       theme(plot.title = element_text(hjust = 1, size = 14, face = "bold"),
       axis.text.x = element_text(hjust = 1, size = 12),
       axis.text.y = element_text(hjust = 1, size = 12)
       ) + coord_flip()

p11
save_graf(p11, type = "bar")





p12 <- journal.amlat %>%
  group_by(country, language) %>%
  count() %>%
  ungroup() %>%
  filter(n >= 5 & n <= 410) %>%
  mutate(language = fct_reorder(language, n)) %>%
  plot_ly(x = ~country, y = ~language, z = ~n,
        type = "heatmap", colors = viridisLite::viridis(100, option = "C"), 
        hovertemplate = paste(
      "País: %{y}<br>",
      "Idioma: %{x}<br>",
      "Publicaciones: %{z}<extra></extra>")
    ) %>%
  layout(title = list(
      text = "Distribución según idiomas de publicaciones académicas de América Latina",
      x = 0.5,  
      xanchor = "center"
    ),
    xaxis = list(tickangle = -45, tickfont = list(size = 8)),
    yaxis = list(tickangle = -25, tickfont = list(size = 8)),
    margin = list(l = 100, r = 20, t = 50, b = 50), 
    annotations = list(
      list(
        x = 0.35, y = -0.58, 
        xref = "paper", yref = "paper",
        showarrow = FALSE,
        xanchor = "left",
        yanchor = "top",
        font = list(size = 8),
        text = add_caption()
      )
    )
  )

p12
saveWidget(p12, file = "amlat_idiomas_pub.html", selfcontained = FALSE)






p13 <- journal.amlat %>%
         filter(Subjects %in% social_sc) %>% 
         group_by(language, country, Ids) %>% 
         summarise(count = n(), .groups = "drop") %>%
          filter(count >= 2) %>%
          mutate(language = reorder(language, count)) %>%
          ggplot(aes(x = country, y = language, color = Ids)) +
          geom_point(size = 4, alpha = 0.8) +
          theme_minimal() +
          theme(
        plot.title = element_text(hjust = 0.5, size = 12),
        axis.text.x = element_text(angle = 60, hjust = 1),
        legend.position = "right",
        legend.box = "horizontal",
        legend.title = element_text(size = 11),
        legend.text = element_text(size = 7),
        legend.spacing.y = unit(-0.1, "cm"),
        plot.margin = margin(t = 10, r = 0, b = 10, l = 10)
      ) +
      guides(color = guide_legend(ncol = 1, byrow = TRUE)) +
      scale_color_paletteer_d("awtools::a_palette") +
      labs(
        x = "",
        y = "",
        caption = add_caption(),
        title = "Relaciones entre: países, idiomas e indicadores persistentes en publicaciones de América Latina")

p13



#otro gráfico
journal.amlat %>%
  group_by(Publisher)%>%
  count()%>%
  filter(n>15)%>%
  mutate(Publisher = reorder(Publisher, n)) %>%
  ggplot(aes(x = reorder(Publisher, n), y = n, fill = Publisher)) +  # Ordenar x según la frecuencia -n
  geom_col () + # si agrego , fill = "blue" cambio color
  theme_minimal() +
  theme(legend.position = "n") +
  scale_color_scico_d(palette = "berlin") +
  ylab("Cantidad de revistas publicadas por") +
  xlab(NULL) +
  ggtitle("Editoriales de las publicaciones en América Latina",
    subtitle = "Restringido a editoriales con más de 15 revistas") +
  coord_flip() +
  labs(caption = add_caption())




journal.amlat %>%
  group_by(license) %>%
  count() %>%
  filter(n >= 5) %>%
  mutate(license = reorder(license, n)) %>%
  ggplot(aes(x = reorder(license, n), y = n, fill = license)) +
  geom_col() +
  scale_color_scico_d(palette = "berlin") +
  theme_minimal() +
  theme(legend.position = "n") +  # debe ser "none", no "n"
  ylab("Frecuencias") +
  xlab("Tipo de licencias") +
  ggtitle("Licencias utilizadas por todo tipo de publicaciones en América Latina") +
  coord_flip() +
  labs(caption = add_caption())




journal.amlat %>%
  group_by(Review)%>%
  count()%>%
  filter(n>=8)%>%
  mutate(Review = fct_reorder(Review, n)) %>%
  ggplot(aes(x = reorder(Review, n), y = n, fill = Review)) +
  geom_col () + # si agrego , fill = "blue" cambio color
  scale_fill_scico_d(palette = "tokyo") +
  theme_minimal() +
  theme(legend.position = "n") +
  ylab("Frecuencia") +
  xlab("Tipo de revisiones") +
  ggtitle("Proceso de revisión para publicaciones para las revistas de América Latina") +
  #scale_color_scico_d(palette = "lajolla") +
  coord_flip() +
  labs(caption = add_caption())



journal.amlat %>%
  group_by(Subjects) %>%
  count() %>%
  filter(n > 15) %>%
  mutate(Subjects = fct_reorder(Subjects, n)) %>%
  ggplot(aes(x = reorder(Subjects, n), y = n, fill = Subjects)) +
  geom_col() +
  theme_minimal() +
  theme(legend.position = "n") +
  ylab("Frecuencia") +
  xlab("Áreas") +
  ggtitle("Áreas generales de publicación en América Latina",
          subtitle = "Frecuencia mayor a 15") +
  scale_color_scico_d(palette = "berlin") +
  coord_flip() +
  labs(caption = add_caption())
